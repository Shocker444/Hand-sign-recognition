{
 "cells": [
  {
   "cell_type": "code",
   "execution_count": 1,
   "id": "78a13d5a",
   "metadata": {
    "ExecuteTime": {
     "end_time": "2023-07-30T11:55:34.464638Z",
     "start_time": "2023-07-30T11:54:50.172337Z"
    }
   },
   "outputs": [],
   "source": [
    "import tensorflow as tf\n",
    "import mediapipe as mp\n",
    "import numpy as np\n",
    "from tensorflow.keras import layers\n",
    "from tensorflow.keras.utils import to_categorical\n",
    "from tensorflow import keras\n",
    "from sklearn.model_selection import train_test_split\n",
    "import time\n",
    "import cv2\n",
    "import os"
   ]
  },
  {
   "cell_type": "code",
   "execution_count": 2,
   "id": "2e602dca",
   "metadata": {
    "ExecuteTime": {
     "end_time": "2023-07-30T11:55:34.622987Z",
     "start_time": "2023-07-30T11:55:34.612107Z"
    }
   },
   "outputs": [],
   "source": [
    "mp_drawings = mp.solutions.drawing_utils\n",
    "mp_holistic = mp.solutions.holistic\n",
    "mp_hands = mp.solutions.hands"
   ]
  },
  {
   "cell_type": "markdown",
   "id": "61134b43",
   "metadata": {},
   "source": [
    "## Test"
   ]
  },
  {
   "cell_type": "code",
   "execution_count": 3,
   "id": "2b8dd2ac",
   "metadata": {
    "ExecuteTime": {
     "end_time": "2023-07-30T11:55:34.814663Z",
     "start_time": "2023-07-30T11:55:34.723275Z"
    }
   },
   "outputs": [],
   "source": [
    "def rendering(image, results):\n",
    "    mp_drawings.draw_landmarks(image, results.face_landmarks, mp_holistic.FACEMESH_CONTOURS,\n",
    "                              mp_drawings.DrawingSpec(color=(80, 110, 10), thickness=1, circle_radius=1),\n",
    "                              mp_drawings.DrawingSpec(color=(80, 121, 10), thickness=1, circle_radius=1))\n",
    "    mp_drawings.draw_landmarks(image, results.pose_landmarks, mp_holistic.POSE_CONNECTIONS)\n",
    "    mp_drawings.draw_landmarks(image, results.left_hand_landmarks, mp_holistic.HAND_CONNECTIONS)\n",
    "    mp_drawings.draw_landmarks(image, results.right_hand_landmarks, mp_holistic.HAND_CONNECTIONS)\n"
   ]
  },
  {
   "cell_type": "code",
   "execution_count": 15,
   "id": "f4d1dca4",
   "metadata": {
    "ExecuteTime": {
     "end_time": "2023-07-30T11:59:46.905041Z",
     "start_time": "2023-07-30T11:59:42.720097Z"
    }
   },
   "outputs": [],
   "source": [
    "cap = cv2.VideoCapture(0)\n",
    "\n",
    "with mp_hands.Hands(min_detection_confidence=0.5, max_num_hands=1) as hands:\n",
    "    while cap.isOpened():\n",
    "        ret, frame = cap.read()\n",
    "\n",
    "        # flip the image\n",
    "        frame = cv2.flip(frame, 1)\n",
    "        \n",
    "        # bgr to rgb\n",
    "        image = cv2.cvtColor(frame, cv2.COLOR_BGR2RGB)\n",
    "\n",
    "        # make detections\n",
    "\n",
    "\n",
    "        result = hands.process(image)\n",
    "            # render results of detections\n",
    "        if result.multi_hand_landmarks:\n",
    "                for landmark in result.multi_hand_landmarks:\n",
    "                    mp_drawings.draw_landmarks(frame, landmark, mp_hands.HAND_CONNECTIONS,\n",
    "                                         mp_drawings.DrawingSpec(color=(100, 131, 25), thickness=2, circle_radius=2),\n",
    "                                         mp_drawings.DrawingSpec(color=(22, 55, 200), thickness=3, circle_radius=2))\n",
    "      \n",
    "\n",
    "        # cv2.imwrite(os.path.join('output images', f'{str(uuid.uuid1())}.jpg'), frame)\n",
    "        cv2.imshow('Hand tracking', frame)\n",
    "        if cv2.waitKey(1) & 0xFF == ord('q'):\n",
    "            break\n",
    "\n",
    "cap.release()\n",
    "cv2.destroyAllWindows()"
   ]
  },
  {
   "cell_type": "code",
   "execution_count": 421,
   "id": "b9677594",
   "metadata": {
    "ExecuteTime": {
     "end_time": "2023-07-30T10:01:24.349839Z",
     "start_time": "2023-07-30T10:01:24.325833Z"
    }
   },
   "outputs": [],
   "source": [
    "'''def extract_keypoints(results):\n",
    "    \"\"\"face = []\n",
    "    if results.face_landmarks:\n",
    "        for res in results.face_landmarks.landmark:\n",
    "            face.append(np.array([res.x, res.y, res.z]))\"\"\"\n",
    "    \n",
    "    #face = np.array(face).flatten()\n",
    "    if results.left_hand_landmarks:\n",
    "        lh = np.array([[res.x, res.y, res.z] for res in results.left_hand_landmarks.landmark])\n",
    "    else:\n",
    "        lh = np.zeros((21, 3))\n",
    "    if results.right_hand_landmarks:\n",
    "        rh = np.array([[res.x, res.y, res.z] for res in results.right_hand_landmarks.landmark])\n",
    "    else:\n",
    "        rh = np.zeros((21, 3))\n",
    "    if results.pose_landmarks:\n",
    "        pose = [np.array([res.x, res.y, res.z]) for res in results.pose_landmarks.landmark]\n",
    "        #pose = np.array(pose).flatten()\n",
    "    else:\n",
    "        pose = np.zeros(shape=(31, 3))\n",
    "    \n",
    "    return tf.concat((lh, rh, pose), 0)'''"
   ]
  },
  {
   "cell_type": "code",
   "execution_count": 16,
   "id": "504efa5a",
   "metadata": {
    "ExecuteTime": {
     "end_time": "2023-07-30T11:59:52.187789Z",
     "start_time": "2023-07-30T11:59:52.164766Z"
    }
   },
   "outputs": [],
   "source": [
    "def extract_keypoints(results):\n",
    "    hand = []\n",
    "    if results.multi_hand_landmarks:\n",
    "        for lm in results.multi_hand_landmarks:\n",
    "            for res in lm.landmark:\n",
    "                hand.append(np.array([res.x, res.y, res.z]))\n",
    "    return hand"
   ]
  },
  {
   "cell_type": "code",
   "execution_count": 17,
   "id": "4f53a1e6",
   "metadata": {
    "ExecuteTime": {
     "end_time": "2023-07-30T11:59:52.549548Z",
     "start_time": "2023-07-30T11:59:52.521551Z"
    },
    "collapsed": true
   },
   "outputs": [
    {
     "data": {
      "text/plain": [
       "<tf.Tensor: shape=(21, 3), dtype=float64, numpy=\n",
       "array([[ 1.02330431e-01,  8.77934337e-01,  7.28771738e-07],\n",
       "       [ 2.01304868e-01,  8.51286411e-01, -3.86849605e-02],\n",
       "       [ 2.88881660e-01,  7.78087914e-01, -6.07262403e-02],\n",
       "       [ 3.54907185e-01,  7.20797896e-01, -8.24246258e-02],\n",
       "       [ 4.20482635e-01,  6.95796847e-01, -1.05033420e-01],\n",
       "       [ 2.64046460e-01,  5.62440634e-01, -3.38571854e-02],\n",
       "       [ 3.06724012e-01,  4.41207528e-01, -6.76996857e-02],\n",
       "       [ 3.34738851e-01,  3.62298191e-01, -9.63834599e-02],\n",
       "       [ 3.60291630e-01,  2.93383986e-01, -1.17833674e-01],\n",
       "       [ 2.06111848e-01,  5.31630337e-01, -4.23693061e-02],\n",
       "       [ 2.43705526e-01,  3.85574400e-01, -7.21050724e-02],\n",
       "       [ 2.71365404e-01,  2.88217336e-01, -9.90345553e-02],\n",
       "       [ 2.96253532e-01,  2.01953590e-01, -1.19571425e-01],\n",
       "       [ 1.43166170e-01,  5.36946058e-01, -5.67498207e-02],\n",
       "       [ 1.70969039e-01,  3.91911119e-01, -8.83900821e-02],\n",
       "       [ 1.88378930e-01,  2.94533193e-01, -1.14436984e-01],\n",
       "       [ 2.06980109e-01,  2.08222210e-01, -1.32672265e-01],\n",
       "       [ 7.57242590e-02,  5.70897937e-01, -7.50005990e-02],\n",
       "       [ 6.64362311e-02,  4.58823442e-01, -1.08107641e-01],\n",
       "       [ 6.15189075e-02,  3.78453612e-01, -1.26478091e-01],\n",
       "       [ 6.11564666e-02,  3.00304741e-01, -1.38210714e-01]])>"
      ]
     },
     "execution_count": 17,
     "metadata": {},
     "output_type": "execute_result"
    }
   ],
   "source": [
    "hand = extract_keypoints(result)\n",
    "hand = tf.convert_to_tensor(hand)\n",
    "hand"
   ]
  },
  {
   "cell_type": "markdown",
   "id": "4c0d5fcf",
   "metadata": {},
   "source": [
    "# Data collection"
   ]
  },
  {
   "cell_type": "code",
   "execution_count": 70,
   "id": "e0a996b5",
   "metadata": {
    "ExecuteTime": {
     "end_time": "2023-07-30T12:15:55.619129Z",
     "start_time": "2023-07-30T12:15:55.604132Z"
    }
   },
   "outputs": [],
   "source": [
    "# os.mkdir('MP_DATA\\h')\n",
    "data = 'MP_DATA'\n",
    "actions = np.array(['hello', 'yes', 'iloveyou'])\n",
    "sequence_length  = 500"
   ]
  },
  {
   "cell_type": "code",
   "execution_count": 71,
   "id": "17c3ae7e",
   "metadata": {
    "ExecuteTime": {
     "end_time": "2023-07-30T12:19:05.363917Z",
     "start_time": "2023-07-30T12:16:03.641854Z"
    }
   },
   "outputs": [],
   "source": [
    "cap = cv2.VideoCapture(0)\n",
    "\n",
    "with mp_hands.Hands(min_detection_confidence=0.5) as hands:\n",
    "    for action in actions:\n",
    "        #os.mkdir(f'{data}/{action}')\n",
    "        for sequence in range(sequence_length):\n",
    "            ret, frame = cap.read()\n",
    "\n",
    "            # flip the image\n",
    "            frame = cv2.flip(frame, 1)\n",
    "\n",
    "            # bgr to rgb\n",
    "            image = cv2.cvtColor(frame, cv2.COLOR_BGR2RGB)\n",
    "\n",
    "            # make detections\n",
    "            result = hands.process(image)\n",
    "            if result.multi_hand_landmarks:\n",
    "                for landmark in result.multi_hand_landmarks:\n",
    "                    mp_drawings.draw_landmarks(frame, landmark, mp_hands.HAND_CONNECTIONS,\n",
    "                                         mp_drawings.DrawingSpec(color=(100, 131, 25), thickness=2, circle_radius=2),\n",
    "                                         mp_drawings.DrawingSpec(color=(22, 55, 200), thickness=3, circle_radius=2))\n",
    "\n",
    "            if sequence == 0:\n",
    "                cv2.putText(frame, f'Collecting for {action} frame:{sequence}', (15, 12), cv2.FONT_HERSHEY_SIMPLEX, 1, (0, 255, 0),\n",
    "                                   4, cv2.LINE_AA)\n",
    "                cv2.imshow('frame', frame)\n",
    "                cv2.waitKey(2000)\n",
    "            elif sequence == sequence_length //2:\n",
    "                cv2.putText(frame, f'Transition', (15, 12), cv2.FONT_HERSHEY_SIMPLEX, 1, (0, 255, 0),\n",
    "                                   4, cv2.LINE_AA)\n",
    "                cv2.imshow('frame', frame)\n",
    "                cv2.waitKey(2000)\n",
    "            else:\n",
    "                cv2.putText(frame, f'Collecting for {action} frame:{sequence}', (15, 12), cv2.FONT_HERSHEY_SIMPLEX, 1, (0, 255, 0),\n",
    "                                   4, cv2.LINE_AA)\n",
    "                cv2.imshow('frame', frame)\n",
    "\n",
    "                # render results of detections\n",
    "            keypoints = extract_keypoints(result)\n",
    "            np_path = os.path.join(data, action, str(sequence))\n",
    "            np.save(np_path, keypoints)\n",
    "\n",
    "\n",
    "            # cv2.imwrite(os.path.join('output images', f'{str(uuid.uuid1())}.jpg'), frame)\n",
    "            #cv2.imshow('Hand tracking', frame)\n",
    "            if cv2.waitKey(1) & 0xFF == ord('q'):\n",
    "                break\n",
    "\n",
    "cap.release()\n",
    "cv2.destroyAllWindows()"
   ]
  },
  {
   "cell_type": "code",
   "execution_count": 72,
   "id": "95ed297f",
   "metadata": {
    "ExecuteTime": {
     "end_time": "2023-07-30T12:19:17.794531Z",
     "start_time": "2023-07-30T12:19:17.771531Z"
    }
   },
   "outputs": [],
   "source": [
    "label_map = {'hello':0, 'yes':1, 'iloveyou':2}"
   ]
  },
  {
   "cell_type": "code",
   "execution_count": 73,
   "id": "1b010d43",
   "metadata": {
    "ExecuteTime": {
     "end_time": "2023-07-30T12:19:43.302840Z",
     "start_time": "2023-07-30T12:19:18.530959Z"
    }
   },
   "outputs": [],
   "source": [
    "window = []\n",
    "labels = []\n",
    "for action in actions:\n",
    "    for sequence in range(sequence_length):\n",
    "        res = np.load(os.path.join(data, action, f'{sequence}.npy'))\n",
    "        if len(res) == 21:\n",
    "            window.append(res)\n",
    "            labels.append(label_map[action])"
   ]
  },
  {
   "cell_type": "code",
   "execution_count": 74,
   "id": "433f9fbd",
   "metadata": {
    "ExecuteTime": {
     "end_time": "2023-07-30T12:19:51.233990Z",
     "start_time": "2023-07-30T12:19:51.208994Z"
    }
   },
   "outputs": [],
   "source": [
    "labels = to_categorical(np.array(labels)).astype(int)\n",
    "window = np.array(window)"
   ]
  },
  {
   "cell_type": "code",
   "execution_count": 75,
   "id": "e9a061de",
   "metadata": {
    "ExecuteTime": {
     "end_time": "2023-07-30T12:19:51.514863Z",
     "start_time": "2023-07-30T12:19:51.488870Z"
    }
   },
   "outputs": [
    {
     "data": {
      "text/plain": [
       "1499"
      ]
     },
     "execution_count": 75,
     "metadata": {},
     "output_type": "execute_result"
    }
   ],
   "source": [
    "len(labels)"
   ]
  },
  {
   "cell_type": "code",
   "execution_count": 76,
   "id": "7c9136c3",
   "metadata": {
    "ExecuteTime": {
     "end_time": "2023-07-30T12:19:51.776003Z",
     "start_time": "2023-07-30T12:19:51.765004Z"
    }
   },
   "outputs": [
    {
     "name": "stdout",
     "output_type": "stream",
     "text": [
      "[1 0 0]\n"
     ]
    }
   ],
   "source": [
    "for i in labels:\n",
    "    print(i)\n",
    "    break"
   ]
  },
  {
   "cell_type": "code",
   "execution_count": 77,
   "id": "5847ce88",
   "metadata": {
    "ExecuteTime": {
     "end_time": "2023-07-30T12:19:52.077410Z",
     "start_time": "2023-07-30T12:19:52.051413Z"
    }
   },
   "outputs": [],
   "source": [
    "X_train, X_test, y_train, y_test = train_test_split(window, labels, test_size=0.20)"
   ]
  },
  {
   "cell_type": "code",
   "execution_count": 78,
   "id": "85341c0d",
   "metadata": {
    "ExecuteTime": {
     "end_time": "2023-07-30T12:19:52.407525Z",
     "start_time": "2023-07-30T12:19:52.386987Z"
    }
   },
   "outputs": [
    {
     "data": {
      "text/plain": [
       "1199"
      ]
     },
     "execution_count": 78,
     "metadata": {},
     "output_type": "execute_result"
    }
   ],
   "source": [
    "len(X_train)"
   ]
  },
  {
   "cell_type": "code",
   "execution_count": 79,
   "id": "dc511c01",
   "metadata": {
    "ExecuteTime": {
     "end_time": "2023-07-30T12:19:52.800164Z",
     "start_time": "2023-07-30T12:19:52.773170Z"
    }
   },
   "outputs": [],
   "source": [
    "train_dataset = tf.data.Dataset.from_tensor_slices((X_train, y_train))\n",
    "val_dataset = tf.data.Dataset.from_tensor_slices((X_test, y_test))"
   ]
  },
  {
   "cell_type": "code",
   "execution_count": 80,
   "id": "358f4ee4",
   "metadata": {
    "ExecuteTime": {
     "end_time": "2023-07-30T12:19:53.134752Z",
     "start_time": "2023-07-30T12:19:53.107440Z"
    },
    "scrolled": true
   },
   "outputs": [
    {
     "name": "stdout",
     "output_type": "stream",
     "text": [
      "tf.Tensor(\n",
      "[[ 8.22325230e-01  5.38365602e-01  2.61576616e-07]\n",
      " [ 7.75764465e-01  5.22445917e-01 -1.62287373e-02]\n",
      " [ 7.34960735e-01  4.82295632e-01 -2.46598721e-02]\n",
      " [ 7.08441257e-01  4.43525702e-01 -3.21732908e-02]\n",
      " [ 6.81060910e-01  4.21327233e-01 -4.01151702e-02]\n",
      " [ 7.48155296e-01  3.83358181e-01 -1.18763344e-02]\n",
      " [ 7.23598719e-01  3.22783887e-01 -2.55192965e-02]\n",
      " [ 7.10560143e-01  2.84206659e-01 -3.79504040e-02]\n",
      " [ 7.01931119e-01  2.49311119e-01 -4.75268848e-02]\n",
      " [ 7.78792202e-01  3.64237815e-01 -1.61658023e-02]\n",
      " [ 7.61977077e-01  2.90060490e-01 -2.67705806e-02]\n",
      " [ 7.53168166e-01  2.42945865e-01 -3.80699039e-02]\n",
      " [ 7.46467471e-01  2.02110603e-01 -4.71088998e-02]\n",
      " [ 8.09985459e-01  3.63802731e-01 -2.32575089e-02]\n",
      " [ 8.06159794e-01  2.92079836e-01 -3.63337807e-02]\n",
      " [ 8.05096745e-01  2.45436385e-01 -4.62223962e-02]\n",
      " [ 8.02924573e-01  2.04259083e-01 -5.36865965e-02]\n",
      " [ 8.40804100e-01  3.77762944e-01 -3.18750292e-02]\n",
      " [ 8.45517159e-01  3.23270559e-01 -4.38410901e-02]\n",
      " [ 8.48888040e-01  2.86985010e-01 -4.84316908e-02]\n",
      " [ 8.50531876e-01  2.52468765e-01 -5.18783107e-02]], shape=(21, 3), dtype=float64) tf.Tensor([1 0 0], shape=(3,), dtype=int32)\n"
     ]
    }
   ],
   "source": [
    "for points, label in train_dataset.take(1):\n",
    "    print(points, label)"
   ]
  },
  {
   "cell_type": "code",
   "execution_count": 81,
   "id": "bab8a680",
   "metadata": {
    "ExecuteTime": {
     "end_time": "2023-07-30T12:19:53.535284Z",
     "start_time": "2023-07-30T12:19:53.507506Z"
    }
   },
   "outputs": [],
   "source": [
    "def augment(points, label):\n",
    "    # jitter points\n",
    "    points += tf.random.uniform(points.shape, -0.005, 0.005, dtype=tf.float64)\n",
    "    # shuffle points\n",
    "    points = tf.random.shuffle(points)\n",
    "    return points, label"
   ]
  },
  {
   "cell_type": "code",
   "execution_count": 82,
   "id": "44e02891",
   "metadata": {
    "ExecuteTime": {
     "end_time": "2023-07-30T12:19:53.854245Z",
     "start_time": "2023-07-30T12:19:53.803595Z"
    }
   },
   "outputs": [],
   "source": [
    "batch_size = 128\n",
    "train_ds = train_dataset.shuffle(len(train_dataset)).map(augment).batch(batch_size)\n",
    "val_ds = val_dataset.batch(batch_size)"
   ]
  },
  {
   "cell_type": "code",
   "execution_count": 83,
   "id": "485f2f05",
   "metadata": {
    "ExecuteTime": {
     "end_time": "2023-07-30T12:19:54.071188Z",
     "start_time": "2023-07-30T12:19:54.060188Z"
    }
   },
   "outputs": [
    {
     "data": {
      "text/plain": [
       "10"
      ]
     },
     "execution_count": 83,
     "metadata": {},
     "output_type": "execute_result"
    }
   ],
   "source": [
    "len(train_ds)"
   ]
  },
  {
   "cell_type": "markdown",
   "id": "546f75da",
   "metadata": {},
   "source": [
    "# Model Building"
   ]
  },
  {
   "cell_type": "code",
   "execution_count": 84,
   "id": "96a93015",
   "metadata": {
    "ExecuteTime": {
     "end_time": "2023-07-30T12:19:54.353957Z",
     "start_time": "2023-07-30T12:19:54.342952Z"
    }
   },
   "outputs": [],
   "source": [
    "NUM_CLASSES = 3"
   ]
  },
  {
   "cell_type": "code",
   "execution_count": 85,
   "id": "734754a4",
   "metadata": {
    "ExecuteTime": {
     "end_time": "2023-07-30T12:19:54.632840Z",
     "start_time": "2023-07-30T12:19:54.608451Z"
    }
   },
   "outputs": [],
   "source": [
    "def conv_bn(x, filters):\n",
    "    x = layers.Conv1D(filters, kernel_size=1, padding='same')(x)\n",
    "    x = layers.BatchNormalization(momentum=0.0)(x)\n",
    "    x = layers.Activation('relu')(x)\n",
    "    return x\n",
    "\n",
    "def dense_bn(x, filters):\n",
    "    x = layers.Dense(filters)(x)\n",
    "    x = layers.BatchNormalization(momentum=0.0)(x)\n",
    "    x = layers.Activation('relu')(x)\n",
    "    return x"
   ]
  },
  {
   "cell_type": "code",
   "execution_count": 87,
   "id": "2aff3609",
   "metadata": {
    "ExecuteTime": {
     "end_time": "2023-07-30T12:19:55.287963Z",
     "start_time": "2023-07-30T12:19:55.262459Z"
    }
   },
   "outputs": [],
   "source": [
    "# T-net layers for pointnet\n",
    "def tnet(inputs, num_features):\n",
    "\n",
    "    # Initalise bias as the indentity matrix\n",
    "    #bias = keras.initializers.Constant(np.eye(num_features).flatten())\n",
    "    #reg = OrthogonalRegularizer(num_features)\n",
    "\n",
    "    x = conv_bn(inputs, 32)\n",
    "    x = conv_bn(x, 64)\n",
    "    x = conv_bn(x, 512)\n",
    "    x = layers.GlobalMaxPooling1D()(x)\n",
    "    x = dense_bn(x, 256)\n",
    "    x = dense_bn(x, 128)\n",
    "    x = layers.Dense(num_features * num_features)(x)\n",
    "    feat_T = layers.Reshape((num_features, num_features))(x)\n",
    "    \n",
    "    # Apply affine transformation to input features\n",
    "    return layers.Dot(axes=(2, 1))([inputs, feat_T])"
   ]
  },
  {
   "cell_type": "code",
   "execution_count": 88,
   "id": "6cebfeb9",
   "metadata": {
    "ExecuteTime": {
     "end_time": "2023-07-30T12:19:57.116016Z",
     "start_time": "2023-07-30T12:19:55.565161Z"
    }
   },
   "outputs": [
    {
     "name": "stdout",
     "output_type": "stream",
     "text": [
      "Model: \"pointnet\"\n",
      "__________________________________________________________________________________________________\n",
      " Layer (type)                   Output Shape         Param #     Connected to                     \n",
      "==================================================================================================\n",
      " input_5 (InputLayer)           [(None, 21, 3)]      0           []                               \n",
      "                                                                                                  \n",
      " conv1d_44 (Conv1D)             (None, 21, 32)       128         ['input_5[0][0]']                \n",
      "                                                                                                  \n",
      " batch_normalization_68 (BatchN  (None, 21, 32)      128         ['conv1d_44[0][0]']              \n",
      " ormalization)                                                                                    \n",
      "                                                                                                  \n",
      " activation_68 (Activation)     (None, 21, 32)       0           ['batch_normalization_68[0][0]'] \n",
      "                                                                                                  \n",
      " conv1d_45 (Conv1D)             (None, 21, 64)       2112        ['activation_68[0][0]']          \n",
      "                                                                                                  \n",
      " batch_normalization_69 (BatchN  (None, 21, 64)      256         ['conv1d_45[0][0]']              \n",
      " ormalization)                                                                                    \n",
      "                                                                                                  \n",
      " activation_69 (Activation)     (None, 21, 64)       0           ['batch_normalization_69[0][0]'] \n",
      "                                                                                                  \n",
      " conv1d_46 (Conv1D)             (None, 21, 512)      33280       ['activation_69[0][0]']          \n",
      "                                                                                                  \n",
      " batch_normalization_70 (BatchN  (None, 21, 512)     2048        ['conv1d_46[0][0]']              \n",
      " ormalization)                                                                                    \n",
      "                                                                                                  \n",
      " activation_70 (Activation)     (None, 21, 512)      0           ['batch_normalization_70[0][0]'] \n",
      "                                                                                                  \n",
      " global_max_pooling1d_12 (Globa  (None, 512)         0           ['activation_70[0][0]']          \n",
      " lMaxPooling1D)                                                                                   \n",
      "                                                                                                  \n",
      " dense_36 (Dense)               (None, 256)          131328      ['global_max_pooling1d_12[0][0]']\n",
      "                                                                                                  \n",
      " batch_normalization_71 (BatchN  (None, 256)         1024        ['dense_36[0][0]']               \n",
      " ormalization)                                                                                    \n",
      "                                                                                                  \n",
      " activation_71 (Activation)     (None, 256)          0           ['batch_normalization_71[0][0]'] \n",
      "                                                                                                  \n",
      " dense_37 (Dense)               (None, 128)          32896       ['activation_71[0][0]']          \n",
      "                                                                                                  \n",
      " batch_normalization_72 (BatchN  (None, 128)         512         ['dense_37[0][0]']               \n",
      " ormalization)                                                                                    \n",
      "                                                                                                  \n",
      " activation_72 (Activation)     (None, 128)          0           ['batch_normalization_72[0][0]'] \n",
      "                                                                                                  \n",
      " dense_38 (Dense)               (None, 9)            1161        ['activation_72[0][0]']          \n",
      "                                                                                                  \n",
      " reshape_8 (Reshape)            (None, 3, 3)         0           ['dense_38[0][0]']               \n",
      "                                                                                                  \n",
      " dot_8 (Dot)                    (None, 21, 3)        0           ['input_5[0][0]',                \n",
      "                                                                  'reshape_8[0][0]']              \n",
      "                                                                                                  \n",
      " conv1d_47 (Conv1D)             (None, 21, 32)       128         ['dot_8[0][0]']                  \n",
      "                                                                                                  \n",
      " batch_normalization_73 (BatchN  (None, 21, 32)      128         ['conv1d_47[0][0]']              \n",
      " ormalization)                                                                                    \n",
      "                                                                                                  \n",
      " activation_73 (Activation)     (None, 21, 32)       0           ['batch_normalization_73[0][0]'] \n",
      "                                                                                                  \n",
      " conv1d_48 (Conv1D)             (None, 21, 32)       1056        ['activation_73[0][0]']          \n",
      "                                                                                                  \n",
      " batch_normalization_74 (BatchN  (None, 21, 32)      128         ['conv1d_48[0][0]']              \n",
      " ormalization)                                                                                    \n",
      "                                                                                                  \n",
      " activation_74 (Activation)     (None, 21, 32)       0           ['batch_normalization_74[0][0]'] \n",
      "                                                                                                  \n",
      " conv1d_49 (Conv1D)             (None, 21, 32)       1056        ['activation_74[0][0]']          \n",
      "                                                                                                  \n",
      " batch_normalization_75 (BatchN  (None, 21, 32)      128         ['conv1d_49[0][0]']              \n",
      " ormalization)                                                                                    \n",
      "                                                                                                  \n",
      " activation_75 (Activation)     (None, 21, 32)       0           ['batch_normalization_75[0][0]'] \n",
      "                                                                                                  \n",
      " conv1d_50 (Conv1D)             (None, 21, 64)       2112        ['activation_75[0][0]']          \n",
      "                                                                                                  \n",
      " batch_normalization_76 (BatchN  (None, 21, 64)      256         ['conv1d_50[0][0]']              \n",
      " ormalization)                                                                                    \n",
      "                                                                                                  \n",
      " activation_76 (Activation)     (None, 21, 64)       0           ['batch_normalization_76[0][0]'] \n",
      "                                                                                                  \n",
      " conv1d_51 (Conv1D)             (None, 21, 512)      33280       ['activation_76[0][0]']          \n",
      "                                                                                                  \n",
      " batch_normalization_77 (BatchN  (None, 21, 512)     2048        ['conv1d_51[0][0]']              \n",
      " ormalization)                                                                                    \n",
      "                                                                                                  \n"
     ]
    },
    {
     "name": "stdout",
     "output_type": "stream",
     "text": [
      " activation_77 (Activation)     (None, 21, 512)      0           ['batch_normalization_77[0][0]'] \n",
      "                                                                                                  \n",
      " global_max_pooling1d_13 (Globa  (None, 512)         0           ['activation_77[0][0]']          \n",
      " lMaxPooling1D)                                                                                   \n",
      "                                                                                                  \n",
      " dense_39 (Dense)               (None, 256)          131328      ['global_max_pooling1d_13[0][0]']\n",
      "                                                                                                  \n",
      " batch_normalization_78 (BatchN  (None, 256)         1024        ['dense_39[0][0]']               \n",
      " ormalization)                                                                                    \n",
      "                                                                                                  \n",
      " activation_78 (Activation)     (None, 256)          0           ['batch_normalization_78[0][0]'] \n",
      "                                                                                                  \n",
      " dense_40 (Dense)               (None, 128)          32896       ['activation_78[0][0]']          \n",
      "                                                                                                  \n",
      " batch_normalization_79 (BatchN  (None, 128)         512         ['dense_40[0][0]']               \n",
      " ormalization)                                                                                    \n",
      "                                                                                                  \n",
      " activation_79 (Activation)     (None, 128)          0           ['batch_normalization_79[0][0]'] \n",
      "                                                                                                  \n",
      " dense_41 (Dense)               (None, 1024)         132096      ['activation_79[0][0]']          \n",
      "                                                                                                  \n",
      " reshape_9 (Reshape)            (None, 32, 32)       0           ['dense_41[0][0]']               \n",
      "                                                                                                  \n",
      " dot_9 (Dot)                    (None, 21, 32)       0           ['activation_74[0][0]',          \n",
      "                                                                  'reshape_9[0][0]']              \n",
      "                                                                                                  \n",
      " conv1d_52 (Conv1D)             (None, 21, 32)       1056        ['dot_9[0][0]']                  \n",
      "                                                                                                  \n",
      " batch_normalization_80 (BatchN  (None, 21, 32)      128         ['conv1d_52[0][0]']              \n",
      " ormalization)                                                                                    \n",
      "                                                                                                  \n",
      " activation_80 (Activation)     (None, 21, 32)       0           ['batch_normalization_80[0][0]'] \n",
      "                                                                                                  \n",
      " conv1d_53 (Conv1D)             (None, 21, 64)       2112        ['activation_80[0][0]']          \n",
      "                                                                                                  \n",
      " batch_normalization_81 (BatchN  (None, 21, 64)      256         ['conv1d_53[0][0]']              \n",
      " ormalization)                                                                                    \n",
      "                                                                                                  \n",
      " activation_81 (Activation)     (None, 21, 64)       0           ['batch_normalization_81[0][0]'] \n",
      "                                                                                                  \n",
      " conv1d_54 (Conv1D)             (None, 21, 512)      33280       ['activation_81[0][0]']          \n",
      "                                                                                                  \n",
      " batch_normalization_82 (BatchN  (None, 21, 512)     2048        ['conv1d_54[0][0]']              \n",
      " ormalization)                                                                                    \n",
      "                                                                                                  \n",
      " activation_82 (Activation)     (None, 21, 512)      0           ['batch_normalization_82[0][0]'] \n",
      "                                                                                                  \n",
      " global_max_pooling1d_14 (Globa  (None, 512)         0           ['activation_82[0][0]']          \n",
      " lMaxPooling1D)                                                                                   \n",
      "                                                                                                  \n",
      " dense_42 (Dense)               (None, 256)          131328      ['global_max_pooling1d_14[0][0]']\n",
      "                                                                                                  \n",
      " batch_normalization_83 (BatchN  (None, 256)         1024        ['dense_42[0][0]']               \n",
      " ormalization)                                                                                    \n",
      "                                                                                                  \n",
      " activation_83 (Activation)     (None, 256)          0           ['batch_normalization_83[0][0]'] \n",
      "                                                                                                  \n",
      " dropout_8 (Dropout)            (None, 256)          0           ['activation_83[0][0]']          \n",
      "                                                                                                  \n",
      " dense_43 (Dense)               (None, 128)          32896       ['dropout_8[0][0]']              \n",
      "                                                                                                  \n",
      " batch_normalization_84 (BatchN  (None, 128)         512         ['dense_43[0][0]']               \n",
      " ormalization)                                                                                    \n",
      "                                                                                                  \n",
      " activation_84 (Activation)     (None, 128)          0           ['batch_normalization_84[0][0]'] \n",
      "                                                                                                  \n",
      " dropout_9 (Dropout)            (None, 128)          0           ['activation_84[0][0]']          \n",
      "                                                                                                  \n",
      " dense_44 (Dense)               (None, 3)            387         ['dropout_9[0][0]']              \n",
      "                                                                                                  \n",
      "==================================================================================================\n",
      "Total params: 748,076\n",
      "Trainable params: 741,996\n",
      "Non-trainable params: 6,080\n",
      "__________________________________________________________________________________________________\n"
     ]
    }
   ],
   "source": [
    "inputs = keras.Input(shape=(21,3))\n",
    "\n",
    "x = tnet(inputs, 3)\n",
    "x = conv_bn(x, 32)\n",
    "x = conv_bn(x, 32)\n",
    "x = tnet(x, 32)\n",
    "x = conv_bn(x, 32)\n",
    "x = conv_bn(x, 64)\n",
    "x = conv_bn(x, 512)\n",
    "x = layers.GlobalMaxPooling1D()(x)\n",
    "x = dense_bn(x, 256)\n",
    "x = layers.Dropout(0.3)(x)\n",
    "x = dense_bn(x, 128)\n",
    "x = layers.Dropout(0.3)(x)\n",
    "\n",
    "outputs = layers.Dense(NUM_CLASSES, activation ='softmax')(x)\n",
    "\n",
    "model = keras.Model(inputs=inputs, outputs=outputs, name='pointnet')\n",
    "model.summary()"
   ]
  },
  {
   "cell_type": "code",
   "execution_count": 89,
   "id": "20433297",
   "metadata": {
    "ExecuteTime": {
     "end_time": "2023-07-30T12:19:57.496628Z",
     "start_time": "2023-07-30T12:19:57.474627Z"
    }
   },
   "outputs": [],
   "source": [
    "callbacks = keras.callbacks.TensorBoard(log_dir='logdir')\n",
    "early_stopping = keras.callbacks.EarlyStopping(monitor='val_loss',\n",
    "                                              patience=2)"
   ]
  },
  {
   "cell_type": "code",
   "execution_count": 90,
   "id": "856a3eba",
   "metadata": {
    "ExecuteTime": {
     "end_time": "2023-07-30T12:19:57.868275Z",
     "start_time": "2023-07-30T12:19:57.844276Z"
    }
   },
   "outputs": [],
   "source": [
    "model.compile(loss='categorical_crossentropy',\n",
    "             optimizer='adam',\n",
    "             metrics=['accuracy'])"
   ]
  },
  {
   "cell_type": "code",
   "execution_count": 91,
   "id": "6e76d094",
   "metadata": {
    "ExecuteTime": {
     "end_time": "2023-07-30T12:20:36.782989Z",
     "start_time": "2023-07-30T12:19:58.122744Z"
    }
   },
   "outputs": [
    {
     "name": "stdout",
     "output_type": "stream",
     "text": [
      "Epoch 1/20\n",
      "10/10 [==============================] - 15s 417ms/step - loss: 0.8553 - accuracy: 0.6264 - val_loss: 0.3168 - val_accuracy: 0.8700\n",
      "Epoch 2/20\n",
      "10/10 [==============================] - 3s 291ms/step - loss: 0.1187 - accuracy: 0.9733 - val_loss: 0.0647 - val_accuracy: 0.9867\n",
      "Epoch 3/20\n",
      "10/10 [==============================] - 3s 287ms/step - loss: 0.0563 - accuracy: 0.9883 - val_loss: 0.0122 - val_accuracy: 0.9967\n",
      "Epoch 4/20\n",
      "10/10 [==============================] - 3s 290ms/step - loss: 0.0504 - accuracy: 0.9908 - val_loss: 0.0062 - val_accuracy: 1.0000\n",
      "Epoch 5/20\n",
      "10/10 [==============================] - 3s 287ms/step - loss: 0.0249 - accuracy: 0.9950 - val_loss: 0.0059 - val_accuracy: 1.0000\n",
      "Epoch 6/20\n",
      "10/10 [==============================] - 3s 316ms/step - loss: 0.0406 - accuracy: 0.9917 - val_loss: 0.0308 - val_accuracy: 0.9833\n",
      "Epoch 7/20\n",
      "10/10 [==============================] - 3s 280ms/step - loss: 0.0215 - accuracy: 0.9975 - val_loss: 0.0035 - val_accuracy: 1.0000\n",
      "Epoch 8/20\n",
      "10/10 [==============================] - 3s 266ms/step - loss: 0.0433 - accuracy: 0.9892 - val_loss: 0.0354 - val_accuracy: 0.9900\n",
      "Epoch 9/20\n",
      "10/10 [==============================] - 3s 282ms/step - loss: 0.0351 - accuracy: 0.9900 - val_loss: 0.0039 - val_accuracy: 1.0000\n"
     ]
    },
    {
     "data": {
      "text/plain": [
       "<keras.callbacks.History at 0x1834a2c7940>"
      ]
     },
     "execution_count": 91,
     "metadata": {},
     "output_type": "execute_result"
    }
   ],
   "source": [
    "model.fit(train_ds, epochs=20, validation_data=val_ds, callbacks=[callbacks, early_stopping])"
   ]
  },
  {
   "cell_type": "code",
   "execution_count": 92,
   "id": "07a5114f",
   "metadata": {
    "ExecuteTime": {
     "end_time": "2023-07-30T12:20:38.340800Z",
     "start_time": "2023-07-30T12:20:37.026880Z"
    }
   },
   "outputs": [
    {
     "name": "stdout",
     "output_type": "stream",
     "text": [
      "10/10 [==============================] - 1s 18ms/step\n"
     ]
    },
    {
     "data": {
      "text/plain": [
       "array(['yes', 'yes', 'hello', 'iloveyou', 'yes', 'iloveyou', 'hello',\n",
       "       'hello', 'yes', 'iloveyou'], dtype='<U8')"
      ]
     },
     "execution_count": 92,
     "metadata": {},
     "output_type": "execute_result"
    }
   ],
   "source": [
    "predictions = model.predict(X_test)\n",
    "predictions = actions[np.argmax(predictions, 1)]\n",
    "predictions[:10]"
   ]
  },
  {
   "cell_type": "code",
   "execution_count": 93,
   "id": "0857ff45",
   "metadata": {
    "ExecuteTime": {
     "end_time": "2023-07-30T12:20:40.141338Z",
     "start_time": "2023-07-30T12:20:38.627381Z"
    }
   },
   "outputs": [
    {
     "name": "stdout",
     "output_type": "stream",
     "text": [
      "10/10 [==============================] - 1s 16ms/step - loss: 0.0039 - accuracy: 1.0000\n"
     ]
    },
    {
     "data": {
      "text/plain": [
       "[0.003853917121887207, 1.0]"
      ]
     },
     "execution_count": 93,
     "metadata": {},
     "output_type": "execute_result"
    }
   ],
   "source": [
    "model.evaluate(X_test, y_test)"
   ]
  },
  {
   "cell_type": "code",
   "execution_count": 94,
   "id": "83e6ccd2",
   "metadata": {
    "ExecuteTime": {
     "end_time": "2023-07-30T12:20:40.489104Z",
     "start_time": "2023-07-30T12:20:40.461123Z"
    }
   },
   "outputs": [
    {
     "data": {
      "text/plain": [
       "array(['yes', 'yes', 'hello', 'iloveyou', 'yes', 'iloveyou', 'hello',\n",
       "       'hello', 'yes', 'iloveyou'], dtype='<U8')"
      ]
     },
     "execution_count": 94,
     "metadata": {},
     "output_type": "execute_result"
    }
   ],
   "source": [
    "actual = actions[np.argmax(y_test, 1)]\n",
    "actual[:10]"
   ]
  },
  {
   "cell_type": "code",
   "execution_count": 98,
   "id": "20aa0df8",
   "metadata": {
    "ExecuteTime": {
     "end_time": "2023-07-30T12:50:36.322223Z",
     "start_time": "2023-07-30T12:50:13.145754Z"
    }
   },
   "outputs": [
    {
     "name": "stderr",
     "output_type": "stream",
     "text": [
      "WARNING:absl:Found untraced functions such as _jit_compiled_convolution_op, _jit_compiled_convolution_op, _jit_compiled_convolution_op, _jit_compiled_convolution_op, _jit_compiled_convolution_op while saving (showing 5 of 11). These functions will not be directly callable after loading.\n"
     ]
    },
    {
     "name": "stdout",
     "output_type": "stream",
     "text": [
      "INFO:tensorflow:Assets written to: hand_pose_model\\assets\n"
     ]
    },
    {
     "name": "stderr",
     "output_type": "stream",
     "text": [
      "INFO:tensorflow:Assets written to: hand_pose_model\\assets\n"
     ]
    }
   ],
   "source": [
    "model.save('hand_pose_model')"
   ]
  },
  {
   "cell_type": "code",
   "execution_count": 546,
   "id": "09e97517",
   "metadata": {
    "ExecuteTime": {
     "end_time": "2023-07-30T11:24:43.575808Z",
     "start_time": "2023-07-30T11:24:34.973554Z"
    }
   },
   "outputs": [],
   "source": [
    "model = tf.keras.models.load_model('hand_pose_model')"
   ]
  },
  {
   "cell_type": "code",
   "execution_count": 100,
   "id": "5f25a76c",
   "metadata": {
    "ExecuteTime": {
     "end_time": "2023-07-30T15:49:18.869807Z",
     "start_time": "2023-07-30T15:46:58.238897Z"
    }
   },
   "outputs": [
    {
     "name": "stdout",
     "output_type": "stream",
     "text": [
      "1/1 [==============================] - 0s 62ms/step\n",
      "1/1 [==============================] - 0s 47ms/step\n",
      "1/1 [==============================] - 0s 51ms/step\n",
      "1/1 [==============================] - 0s 31ms/step\n",
      "1/1 [==============================] - 0s 52ms/step\n",
      "1/1 [==============================] - 0s 31ms/step\n",
      "1/1 [==============================] - 0s 47ms/step\n",
      "1/1 [==============================] - 0s 37ms/step\n",
      "1/1 [==============================] - 0s 47ms/step\n",
      "1/1 [==============================] - 0s 31ms/step\n",
      "1/1 [==============================] - 0s 38ms/step\n",
      "1/1 [==============================] - 0s 47ms/step\n",
      "1/1 [==============================] - 0s 39ms/step\n",
      "1/1 [==============================] - 0s 47ms/step\n",
      "1/1 [==============================] - 0s 31ms/step\n",
      "1/1 [==============================] - 0s 40ms/step\n",
      "1/1 [==============================] - 0s 47ms/step\n",
      "1/1 [==============================] - 0s 31ms/step\n",
      "1/1 [==============================] - 0s 43ms/step\n",
      "1/1 [==============================] - 0s 47ms/step\n",
      "1/1 [==============================] - 0s 31ms/step\n",
      "1/1 [==============================] - 0s 44ms/step\n",
      "1/1 [==============================] - 0s 47ms/step\n",
      "1/1 [==============================] - 0s 40ms/step\n",
      "1/1 [==============================] - 0s 47ms/step\n",
      "1/1 [==============================] - 0s 47ms/step\n",
      "1/1 [==============================] - 0s 43ms/step\n",
      "1/1 [==============================] - 0s 47ms/step\n",
      "1/1 [==============================] - 0s 63ms/step\n",
      "1/1 [==============================] - 0s 53ms/step\n",
      "1/1 [==============================] - 0s 42ms/step\n",
      "1/1 [==============================] - 0s 47ms/step\n",
      "1/1 [==============================] - 0s 47ms/step\n",
      "1/1 [==============================] - 0s 30ms/step\n",
      "1/1 [==============================] - 0s 47ms/step\n",
      "1/1 [==============================] - 0s 29ms/step\n",
      "1/1 [==============================] - 0s 47ms/step\n",
      "1/1 [==============================] - 0s 47ms/step\n",
      "1/1 [==============================] - 0s 31ms/step\n",
      "1/1 [==============================] - 0s 47ms/step\n",
      "1/1 [==============================] - 0s 47ms/step\n",
      "1/1 [==============================] - 0s 33ms/step\n",
      "1/1 [==============================] - 0s 31ms/step\n",
      "1/1 [==============================] - 0s 46ms/step\n",
      "1/1 [==============================] - 0s 49ms/step\n",
      "1/1 [==============================] - 0s 47ms/step\n",
      "1/1 [==============================] - 0s 48ms/step\n",
      "1/1 [==============================] - 0s 47ms/step\n",
      "1/1 [==============================] - 0s 31ms/step\n",
      "1/1 [==============================] - 0s 33ms/step\n",
      "1/1 [==============================] - 0s 47ms/step\n",
      "1/1 [==============================] - 0s 31ms/step\n",
      "1/1 [==============================] - 0s 48ms/step\n",
      "1/1 [==============================] - 0s 47ms/step\n",
      "1/1 [==============================] - 0s 31ms/step\n",
      "1/1 [==============================] - 0s 52ms/step\n",
      "1/1 [==============================] - 0s 31ms/step\n",
      "1/1 [==============================] - 0s 33ms/step\n",
      "1/1 [==============================] - 0s 38ms/step\n",
      "1/1 [==============================] - 0s 47ms/step\n",
      "1/1 [==============================] - 0s 59ms/step\n",
      "1/1 [==============================] - 0s 37ms/step\n",
      "1/1 [==============================] - 0s 47ms/step\n",
      "1/1 [==============================] - 0s 47ms/step\n",
      "1/1 [==============================] - 0s 38ms/step\n",
      "1/1 [==============================] - 0s 31ms/step\n",
      "1/1 [==============================] - 0s 31ms/step\n",
      "1/1 [==============================] - 0s 41ms/step\n",
      "1/1 [==============================] - 0s 47ms/step\n",
      "1/1 [==============================] - 0s 39ms/step\n",
      "1/1 [==============================] - 0s 31ms/step\n",
      "1/1 [==============================] - 0s 47ms/step\n",
      "1/1 [==============================] - 0s 40ms/step\n",
      "1/1 [==============================] - 0s 38ms/step\n",
      "1/1 [==============================] - 0s 47ms/step\n",
      "1/1 [==============================] - 0s 47ms/step\n",
      "1/1 [==============================] - 0s 41ms/step\n",
      "1/1 [==============================] - 0s 47ms/step\n",
      "1/1 [==============================] - 0s 40ms/step\n",
      "1/1 [==============================] - 0s 45ms/step\n",
      "1/1 [==============================] - 0s 47ms/step\n",
      "1/1 [==============================] - 0s 47ms/step\n",
      "1/1 [==============================] - 0s 45ms/step\n",
      "1/1 [==============================] - 0s 47ms/step\n",
      "1/1 [==============================] - 0s 31ms/step\n",
      "1/1 [==============================] - 0s 45ms/step\n",
      "1/1 [==============================] - 0s 46ms/step\n",
      "1/1 [==============================] - 0s 49ms/step\n",
      "1/1 [==============================] - 0s 58ms/step\n",
      "1/1 [==============================] - 0s 72ms/step\n",
      "1/1 [==============================] - 0s 48ms/step\n",
      "1/1 [==============================] - 0s 47ms/step\n",
      "1/1 [==============================] - 0s 47ms/step\n",
      "1/1 [==============================] - 0s 47ms/step\n",
      "1/1 [==============================] - 0s 47ms/step\n",
      "1/1 [==============================] - 0s 47ms/step\n",
      "1/1 [==============================] - 0s 47ms/step\n",
      "1/1 [==============================] - 0s 47ms/step\n",
      "1/1 [==============================] - 0s 47ms/step\n",
      "1/1 [==============================] - 0s 47ms/step\n",
      "1/1 [==============================] - 0s 47ms/step\n",
      "1/1 [==============================] - 0s 47ms/step\n",
      "1/1 [==============================] - 0s 47ms/step\n",
      "1/1 [==============================] - 0s 63ms/step\n",
      "1/1 [==============================] - 0s 59ms/step\n",
      "1/1 [==============================] - 0s 51ms/step\n",
      "1/1 [==============================] - 0s 47ms/step\n",
      "1/1 [==============================] - 0s 35ms/step\n",
      "1/1 [==============================] - 0s 47ms/step\n",
      "1/1 [==============================] - 0s 47ms/step\n",
      "1/1 [==============================] - 0s 36ms/step\n",
      "1/1 [==============================] - 0s 47ms/step\n",
      "1/1 [==============================] - 0s 31ms/step\n",
      "1/1 [==============================] - 0s 31ms/step\n",
      "1/1 [==============================] - 0s 35ms/step\n",
      "1/1 [==============================] - 0s 31ms/step\n",
      "1/1 [==============================] - 0s 31ms/step\n",
      "1/1 [==============================] - 0s 40ms/step\n",
      "1/1 [==============================] - 0s 31ms/step\n",
      "1/1 [==============================] - 0s 52ms/step\n",
      "1/1 [==============================] - 0s 47ms/step\n",
      "1/1 [==============================] - 0s 31ms/step\n",
      "1/1 [==============================] - 0s 40ms/step\n",
      "1/1 [==============================] - 0s 47ms/step\n",
      "1/1 [==============================] - 0s 39ms/step\n",
      "1/1 [==============================] - 0s 31ms/step\n",
      "1/1 [==============================] - 0s 31ms/step\n",
      "1/1 [==============================] - 0s 40ms/step\n",
      "1/1 [==============================] - 0s 31ms/step\n",
      "1/1 [==============================] - 0s 47ms/step\n",
      "1/1 [==============================] - 0s 43ms/step\n",
      "1/1 [==============================] - 0s 31ms/step\n",
      "1/1 [==============================] - 0s 44ms/step\n",
      "1/1 [==============================] - 0s 30ms/step\n",
      "1/1 [==============================] - 0s 31ms/step\n",
      "1/1 [==============================] - 0s 30ms/step\n",
      "1/1 [==============================] - 0s 47ms/step\n",
      "1/1 [==============================] - 0s 31ms/step\n",
      "1/1 [==============================] - 0s 46ms/step\n",
      "1/1 [==============================] - 0s 47ms/step\n",
      "1/1 [==============================] - 0s 45ms/step\n",
      "1/1 [==============================] - 0s 49ms/step\n",
      "1/1 [==============================] - 0s 62ms/step\n",
      "1/1 [==============================] - 0s 58ms/step\n",
      "1/1 [==============================] - 0s 46ms/step\n",
      "1/1 [==============================] - 0s 47ms/step\n",
      "1/1 [==============================] - 0s 47ms/step\n",
      "1/1 [==============================] - 0s 35ms/step\n",
      "1/1 [==============================] - 0s 47ms/step\n",
      "1/1 [==============================] - 0s 35ms/step\n",
      "1/1 [==============================] - 0s 36ms/step\n",
      "1/1 [==============================] - 0s 47ms/step\n",
      "1/1 [==============================] - 0s 47ms/step\n",
      "1/1 [==============================] - 0s 51ms/step\n",
      "1/1 [==============================] - 0s 31ms/step\n",
      "1/1 [==============================] - 0s 51ms/step\n",
      "1/1 [==============================] - 0s 47ms/step\n"
     ]
    },
    {
     "name": "stdout",
     "output_type": "stream",
     "text": [
      "1/1 [==============================] - 0s 47ms/step\n",
      "1/1 [==============================] - 0s 36ms/step\n",
      "1/1 [==============================] - 0s 47ms/step\n",
      "1/1 [==============================] - 0s 66ms/step\n",
      "1/1 [==============================] - 0s 47ms/step\n",
      "1/1 [==============================] - 0s 47ms/step\n",
      "1/1 [==============================] - 0s 31ms/step\n",
      "1/1 [==============================] - 0s 63ms/step\n",
      "1/1 [==============================] - 0s 39ms/step\n",
      "1/1 [==============================] - 0s 31ms/step\n",
      "1/1 [==============================] - 0s 31ms/step\n",
      "1/1 [==============================] - 0s 40ms/step\n",
      "1/1 [==============================] - 0s 47ms/step\n",
      "1/1 [==============================] - 0s 39ms/step\n",
      "1/1 [==============================] - 0s 53ms/step\n",
      "1/1 [==============================] - 0s 53ms/step\n",
      "1/1 [==============================] - 0s 31ms/step\n",
      "1/1 [==============================] - 0s 42ms/step\n",
      "1/1 [==============================] - 0s 47ms/step\n",
      "1/1 [==============================] - 0s 31ms/step\n",
      "1/1 [==============================] - 0s 31ms/step\n",
      "1/1 [==============================] - 0s 31ms/step\n",
      "1/1 [==============================] - 0s 41ms/step\n",
      "1/1 [==============================] - 0s 47ms/step\n",
      "1/1 [==============================] - 0s 31ms/step\n",
      "1/1 [==============================] - 0s 29ms/step\n",
      "1/1 [==============================] - 0s 31ms/step\n",
      "1/1 [==============================] - 0s 45ms/step\n",
      "1/1 [==============================] - 0s 47ms/step\n",
      "1/1 [==============================] - 0s 47ms/step\n",
      "1/1 [==============================] - 0s 30ms/step\n",
      "1/1 [==============================] - 0s 31ms/step\n",
      "1/1 [==============================] - 0s 47ms/step\n",
      "1/1 [==============================] - 0s 31ms/step\n",
      "1/1 [==============================] - 0s 31ms/step\n",
      "1/1 [==============================] - 0s 30ms/step\n",
      "1/1 [==============================] - 0s 49ms/step\n",
      "1/1 [==============================] - 0s 31ms/step\n",
      "1/1 [==============================] - 0s 47ms/step\n",
      "1/1 [==============================] - 0s 31ms/step\n",
      "1/1 [==============================] - 0s 33ms/step\n",
      "1/1 [==============================] - 0s 31ms/step\n",
      "1/1 [==============================] - 0s 47ms/step\n",
      "1/1 [==============================] - 0s 34ms/step\n",
      "1/1 [==============================] - 0s 47ms/step\n",
      "1/1 [==============================] - 0s 47ms/step\n",
      "1/1 [==============================] - 0s 59ms/step\n",
      "1/1 [==============================] - 0s 31ms/step\n",
      "1/1 [==============================] - 0s 47ms/step\n",
      "1/1 [==============================] - 0s 52ms/step\n",
      "1/1 [==============================] - 0s 47ms/step\n",
      "1/1 [==============================] - 0s 35ms/step\n",
      "1/1 [==============================] - 0s 47ms/step\n",
      "1/1 [==============================] - 0s 47ms/step\n",
      "1/1 [==============================] - 0s 40ms/step\n",
      "1/1 [==============================] - 0s 47ms/step\n",
      "1/1 [==============================] - 0s 47ms/step\n",
      "1/1 [==============================] - 0s 43ms/step\n",
      "1/1 [==============================] - 0s 47ms/step\n",
      "1/1 [==============================] - 0s 41ms/step\n",
      "1/1 [==============================] - 0s 47ms/step\n",
      "1/1 [==============================] - 0s 47ms/step\n",
      "1/1 [==============================] - 0s 42ms/step\n",
      "1/1 [==============================] - 0s 47ms/step\n",
      "1/1 [==============================] - 0s 41ms/step\n",
      "1/1 [==============================] - 0s 47ms/step\n",
      "1/1 [==============================] - 0s 47ms/step\n",
      "1/1 [==============================] - 0s 42ms/step\n",
      "1/1 [==============================] - 0s 47ms/step\n",
      "1/1 [==============================] - 0s 47ms/step\n",
      "1/1 [==============================] - 0s 44ms/step\n",
      "1/1 [==============================] - 0s 31ms/step\n",
      "1/1 [==============================] - 0s 43ms/step\n",
      "1/1 [==============================] - 0s 31ms/step\n",
      "1/1 [==============================] - 0s 47ms/step\n",
      "1/1 [==============================] - 0s 44ms/step\n",
      "1/1 [==============================] - 0s 47ms/step\n",
      "1/1 [==============================] - 0s 47ms/step\n",
      "1/1 [==============================] - 0s 45ms/step\n",
      "1/1 [==============================] - 0s 38ms/step\n",
      "1/1 [==============================] - 0s 31ms/step\n",
      "1/1 [==============================] - 0s 46ms/step\n",
      "1/1 [==============================] - 0s 49ms/step\n",
      "1/1 [==============================] - 0s 31ms/step\n",
      "1/1 [==============================] - 0s 33ms/step\n",
      "1/1 [==============================] - 0s 47ms/step\n",
      "1/1 [==============================] - 0s 34ms/step\n",
      "1/1 [==============================] - 0s 47ms/step\n",
      "1/1 [==============================] - 0s 47ms/step\n",
      "1/1 [==============================] - 0s 36ms/step\n",
      "1/1 [==============================] - 0s 47ms/step\n",
      "1/1 [==============================] - 0s 42ms/step\n",
      "1/1 [==============================] - 0s 47ms/step\n",
      "1/1 [==============================] - 0s 50ms/step\n",
      "1/1 [==============================] - 0s 47ms/step\n",
      "1/1 [==============================] - 0s 47ms/step\n",
      "1/1 [==============================] - 0s 36ms/step\n",
      "1/1 [==============================] - 0s 47ms/step\n",
      "1/1 [==============================] - 0s 31ms/step\n",
      "1/1 [==============================] - 0s 39ms/step\n",
      "1/1 [==============================] - 0s 47ms/step\n",
      "1/1 [==============================] - 0s 52ms/step\n",
      "1/1 [==============================] - 0s 47ms/step\n",
      "1/1 [==============================] - 0s 31ms/step\n",
      "1/1 [==============================] - 0s 53ms/step\n",
      "1/1 [==============================] - 0s 38ms/step\n",
      "1/1 [==============================] - 0s 31ms/step\n",
      "1/1 [==============================] - 0s 47ms/step\n",
      "1/1 [==============================] - 0s 40ms/step\n",
      "1/1 [==============================] - 0s 47ms/step\n",
      "1/1 [==============================] - 0s 31ms/step\n",
      "1/1 [==============================] - 0s 31ms/step\n",
      "1/1 [==============================] - 0s 47ms/step\n",
      "1/1 [==============================] - 0s 42ms/step\n",
      "1/1 [==============================] - 0s 47ms/step\n",
      "1/1 [==============================] - 0s 47ms/step\n",
      "1/1 [==============================] - 0s 47ms/step\n",
      "1/1 [==============================] - 0s 47ms/step\n",
      "1/1 [==============================] - 0s 31ms/step\n",
      "1/1 [==============================] - 0s 45ms/step\n",
      "1/1 [==============================] - 0s 31ms/step\n",
      "1/1 [==============================] - 0s 47ms/step\n",
      "1/1 [==============================] - 0s 34ms/step\n",
      "1/1 [==============================] - 0s 47ms/step\n",
      "1/1 [==============================] - 0s 47ms/step\n",
      "1/1 [==============================] - 0s 34ms/step\n",
      "1/1 [==============================] - 0s 53ms/step\n",
      "1/1 [==============================] - 0s 40ms/step\n",
      "1/1 [==============================] - 0s 31ms/step\n",
      "1/1 [==============================] - 0s 52ms/step\n",
      "1/1 [==============================] - 0s 47ms/step\n",
      "1/1 [==============================] - 0s 33ms/step\n",
      "1/1 [==============================] - 0s 47ms/step\n",
      "1/1 [==============================] - 0s 31ms/step\n",
      "1/1 [==============================] - 0s 51ms/step\n",
      "1/1 [==============================] - 0s 47ms/step\n",
      "1/1 [==============================] - 0s 47ms/step\n",
      "1/1 [==============================] - 0s 39ms/step\n",
      "1/1 [==============================] - 0s 47ms/step\n",
      "1/1 [==============================] - 0s 38ms/step\n",
      "1/1 [==============================] - 0s 47ms/step\n",
      "1/1 [==============================] - 0s 31ms/step\n",
      "1/1 [==============================] - 0s 41ms/step\n",
      "1/1 [==============================] - 0s 47ms/step\n",
      "1/1 [==============================] - 0s 38ms/step\n",
      "1/1 [==============================] - 0s 31ms/step\n",
      "1/1 [==============================] - 0s 47ms/step\n",
      "1/1 [==============================] - 0s 56ms/step\n",
      "1/1 [==============================] - 0s 47ms/step\n",
      "1/1 [==============================] - 0s 31ms/step\n",
      "1/1 [==============================] - 0s 28ms/step\n",
      "1/1 [==============================] - 0s 31ms/step\n",
      "1/1 [==============================] - 0s 43ms/step\n",
      "1/1 [==============================] - 0s 46ms/step\n",
      "1/1 [==============================] - 0s 31ms/step\n",
      "1/1 [==============================] - 0s 42ms/step\n",
      "1/1 [==============================] - 0s 47ms/step\n"
     ]
    },
    {
     "name": "stdout",
     "output_type": "stream",
     "text": [
      "1/1 [==============================] - 0s 64ms/step\n",
      "1/1 [==============================] - 0s 47ms/step\n",
      "1/1 [==============================] - 0s 47ms/step\n",
      "1/1 [==============================] - 0s 47ms/step\n",
      "1/1 [==============================] - 0s 45ms/step\n",
      "1/1 [==============================] - 0s 48ms/step\n",
      "1/1 [==============================] - 0s 31ms/step\n",
      "1/1 [==============================] - 0s 34ms/step\n",
      "1/1 [==============================] - 0s 47ms/step\n",
      "1/1 [==============================] - 0s 47ms/step\n",
      "1/1 [==============================] - 0s 50ms/step\n",
      "1/1 [==============================] - 0s 47ms/step\n",
      "1/1 [==============================] - 0s 49ms/step\n",
      "1/1 [==============================] - 0s 47ms/step\n",
      "1/1 [==============================] - 0s 47ms/step\n",
      "1/1 [==============================] - 0s 37ms/step\n",
      "1/1 [==============================] - 0s 47ms/step\n",
      "1/1 [==============================] - 0s 37ms/step\n",
      "1/1 [==============================] - 0s 47ms/step\n",
      "1/1 [==============================] - 0s 31ms/step\n",
      "1/1 [==============================] - 0s 36ms/step\n",
      "1/1 [==============================] - 0s 47ms/step\n",
      "1/1 [==============================] - 0s 47ms/step\n",
      "1/1 [==============================] - 0s 40ms/step\n",
      "1/1 [==============================] - 0s 47ms/step\n",
      "1/1 [==============================] - 0s 47ms/step\n",
      "1/1 [==============================] - 0s 40ms/step\n",
      "1/1 [==============================] - 0s 31ms/step\n",
      "1/1 [==============================] - 0s 47ms/step\n",
      "1/1 [==============================] - 0s 47ms/step\n",
      "1/1 [==============================] - 0s 41ms/step\n",
      "1/1 [==============================] - 0s 44ms/step\n",
      "1/1 [==============================] - 0s 47ms/step\n",
      "1/1 [==============================] - 0s 41ms/step\n",
      "1/1 [==============================] - 0s 47ms/step\n",
      "1/1 [==============================] - 0s 47ms/step\n",
      "1/1 [==============================] - 0s 43ms/step\n",
      "1/1 [==============================] - 0s 31ms/step\n",
      "1/1 [==============================] - 0s 43ms/step\n",
      "1/1 [==============================] - 0s 31ms/step\n",
      "1/1 [==============================] - 0s 31ms/step\n",
      "1/1 [==============================] - 0s 46ms/step\n",
      "1/1 [==============================] - 0s 38ms/step\n",
      "1/1 [==============================] - 0s 47ms/step\n",
      "1/1 [==============================] - 0s 31ms/step\n",
      "1/1 [==============================] - 0s 48ms/step\n",
      "1/1 [==============================] - 0s 31ms/step\n",
      "1/1 [==============================] - 0s 47ms/step\n",
      "1/1 [==============================] - 0s 31ms/step\n",
      "1/1 [==============================] - 0s 47ms/step\n",
      "1/1 [==============================] - 0s 34ms/step\n",
      "1/1 [==============================] - 0s 47ms/step\n",
      "1/1 [==============================] - 0s 31ms/step\n",
      "1/1 [==============================] - 0s 52ms/step\n",
      "1/1 [==============================] - 0s 31ms/step\n",
      "1/1 [==============================] - 0s 36ms/step\n",
      "1/1 [==============================] - 0s 52ms/step\n",
      "1/1 [==============================] - 0s 47ms/step\n",
      "1/1 [==============================] - 0s 55ms/step\n",
      "1/1 [==============================] - 0s 52ms/step\n",
      "1/1 [==============================] - 0s 35ms/step\n",
      "1/1 [==============================] - 0s 47ms/step\n",
      "1/1 [==============================] - 0s 47ms/step\n",
      "1/1 [==============================] - 0s 54ms/step\n",
      "1/1 [==============================] - 0s 55ms/step\n",
      "1/1 [==============================] - 0s 47ms/step\n",
      "1/1 [==============================] - 0s 31ms/step\n",
      "1/1 [==============================] - 0s 41ms/step\n",
      "1/1 [==============================] - 0s 47ms/step\n",
      "1/1 [==============================] - 0s 55ms/step\n",
      "1/1 [==============================] - 0s 29ms/step\n",
      "1/1 [==============================] - 0s 31ms/step\n",
      "1/1 [==============================] - 0s 41ms/step\n",
      "1/1 [==============================] - 0s 41ms/step\n",
      "1/1 [==============================] - 0s 47ms/step\n",
      "1/1 [==============================] - 0s 41ms/step\n",
      "1/1 [==============================] - 0s 31ms/step\n",
      "1/1 [==============================] - 0s 40ms/step\n",
      "1/1 [==============================] - 0s 44ms/step\n",
      "1/1 [==============================] - 0s 47ms/step\n",
      "1/1 [==============================] - 0s 47ms/step\n",
      "1/1 [==============================] - 0s 41ms/step\n",
      "1/1 [==============================] - 0s 47ms/step\n",
      "1/1 [==============================] - 0s 42ms/step\n",
      "1/1 [==============================] - 0s 31ms/step\n",
      "1/1 [==============================] - 0s 47ms/step\n",
      "1/1 [==============================] - 0s 29ms/step\n",
      "1/1 [==============================] - 0s 47ms/step\n",
      "1/1 [==============================] - 0s 31ms/step\n",
      "1/1 [==============================] - 0s 33ms/step\n",
      "1/1 [==============================] - 0s 47ms/step\n",
      "1/1 [==============================] - 0s 31ms/step\n",
      "1/1 [==============================] - 0s 46ms/step\n",
      "1/1 [==============================] - 0s 47ms/step\n",
      "1/1 [==============================] - 0s 31ms/step\n",
      "1/1 [==============================] - 0s 48ms/step\n",
      "1/1 [==============================] - 0s 31ms/step\n",
      "1/1 [==============================] - 0s 33ms/step\n",
      "1/1 [==============================] - 0s 31ms/step\n",
      "1/1 [==============================] - 0s 47ms/step\n",
      "1/1 [==============================] - 0s 35ms/step\n",
      "1/1 [==============================] - 0s 31ms/step\n",
      "1/1 [==============================] - 0s 48ms/step\n",
      "1/1 [==============================] - 0s 47ms/step\n",
      "1/1 [==============================] - 0s 31ms/step\n",
      "1/1 [==============================] - 0s 46ms/step\n",
      "1/1 [==============================] - 0s 47ms/step\n",
      "1/1 [==============================] - 0s 40ms/step\n",
      "1/1 [==============================] - 0s 31ms/step\n",
      "1/1 [==============================] - 0s 31ms/step\n",
      "1/1 [==============================] - 0s 42ms/step\n",
      "1/1 [==============================] - 0s 47ms/step\n",
      "1/1 [==============================] - 0s 47ms/step\n",
      "1/1 [==============================] - 0s 47ms/step\n",
      "1/1 [==============================] - 0s 47ms/step\n",
      "1/1 [==============================] - 0s 57ms/step\n",
      "1/1 [==============================] - 0s 43ms/step\n",
      "1/1 [==============================] - 0s 47ms/step\n",
      "1/1 [==============================] - 0s 84ms/step\n",
      "1/1 [==============================] - 0s 53ms/step\n",
      "1/1 [==============================] - 0s 47ms/step\n",
      "1/1 [==============================] - 0s 38ms/step\n",
      "1/1 [==============================] - 0s 47ms/step\n",
      "1/1 [==============================] - 0s 47ms/step\n",
      "1/1 [==============================] - 0s 63ms/step\n",
      "1/1 [==============================] - 0s 47ms/step\n",
      "1/1 [==============================] - 0s 47ms/step\n",
      "1/1 [==============================] - 0s 47ms/step\n",
      "1/1 [==============================] - 0s 47ms/step\n",
      "1/1 [==============================] - 0s 31ms/step\n",
      "1/1 [==============================] - 0s 62ms/step\n",
      "1/1 [==============================] - 0s 31ms/step\n",
      "1/1 [==============================] - 0s 50ms/step\n",
      "1/1 [==============================] - 0s 37ms/step\n",
      "1/1 [==============================] - 0s 74ms/step\n",
      "1/1 [==============================] - 0s 39ms/step\n",
      "1/1 [==============================] - 0s 47ms/step\n",
      "1/1 [==============================] - 0s 35ms/step\n",
      "1/1 [==============================] - 0s 47ms/step\n",
      "1/1 [==============================] - 0s 47ms/step\n",
      "1/1 [==============================] - 0s 39ms/step\n",
      "1/1 [==============================] - 0s 39ms/step\n",
      "1/1 [==============================] - 0s 47ms/step\n",
      "1/1 [==============================] - 0s 37ms/step\n",
      "1/1 [==============================] - 0s 47ms/step\n",
      "1/1 [==============================] - 0s 42ms/step\n",
      "1/1 [==============================] - 0s 47ms/step\n",
      "1/1 [==============================] - 0s 31ms/step\n",
      "1/1 [==============================] - 0s 47ms/step\n",
      "1/1 [==============================] - 0s 31ms/step\n",
      "1/1 [==============================] - 0s 42ms/step\n",
      "1/1 [==============================] - 0s 47ms/step\n",
      "1/1 [==============================] - 0s 40ms/step\n",
      "1/1 [==============================] - 0s 47ms/step\n",
      "1/1 [==============================] - 0s 47ms/step\n",
      "1/1 [==============================] - 0s 45ms/step\n",
      "1/1 [==============================] - 0s 31ms/step\n"
     ]
    },
    {
     "name": "stdout",
     "output_type": "stream",
     "text": [
      "1/1 [==============================] - 0s 40ms/step\n",
      "1/1 [==============================] - 0s 47ms/step\n",
      "1/1 [==============================] - 0s 47ms/step\n",
      "1/1 [==============================] - 0s 30ms/step\n",
      "1/1 [==============================] - 0s 31ms/step\n",
      "1/1 [==============================] - 0s 45ms/step\n",
      "1/1 [==============================] - 0s 47ms/step\n",
      "1/1 [==============================] - 0s 47ms/step\n",
      "1/1 [==============================] - 0s 47ms/step\n",
      "1/1 [==============================] - 0s 31ms/step\n",
      "1/1 [==============================] - 0s 31ms/step\n",
      "1/1 [==============================] - 0s 47ms/step\n",
      "1/1 [==============================] - 0s 31ms/step\n",
      "1/1 [==============================] - 0s 33ms/step\n",
      "1/1 [==============================] - 0s 47ms/step\n",
      "1/1 [==============================] - 0s 47ms/step\n",
      "1/1 [==============================] - 0s 49ms/step\n",
      "1/1 [==============================] - 0s 62ms/step\n",
      "1/1 [==============================] - 0s 46ms/step\n",
      "1/1 [==============================] - 0s 48ms/step\n",
      "1/1 [==============================] - 0s 47ms/step\n",
      "1/1 [==============================] - 0s 47ms/step\n",
      "1/1 [==============================] - 0s 36ms/step\n",
      "1/1 [==============================] - 0s 47ms/step\n",
      "1/1 [==============================] - 0s 36ms/step\n",
      "1/1 [==============================] - 0s 47ms/step\n",
      "1/1 [==============================] - 0s 31ms/step\n",
      "1/1 [==============================] - 0s 38ms/step\n",
      "1/1 [==============================] - 0s 47ms/step\n",
      "1/1 [==============================] - 0s 53ms/step\n",
      "1/1 [==============================] - 0s 47ms/step\n",
      "1/1 [==============================] - 0s 47ms/step\n",
      "1/1 [==============================] - 0s 40ms/step\n",
      "1/1 [==============================] - 0s 31ms/step\n",
      "1/1 [==============================] - 0s 39ms/step\n",
      "1/1 [==============================] - 0s 58ms/step\n",
      "1/1 [==============================] - 0s 53ms/step\n",
      "1/1 [==============================] - 0s 38ms/step\n",
      "1/1 [==============================] - 0s 53ms/step\n",
      "1/1 [==============================] - 0s 56ms/step\n",
      "1/1 [==============================] - 0s 38ms/step\n",
      "1/1 [==============================] - 0s 47ms/step\n",
      "1/1 [==============================] - 0s 32ms/step\n",
      "1/1 [==============================] - 0s 47ms/step\n",
      "1/1 [==============================] - 0s 31ms/step\n",
      "1/1 [==============================] - 0s 33ms/step\n",
      "1/1 [==============================] - 0s 62ms/step\n",
      "1/1 [==============================] - 0s 47ms/step\n",
      "1/1 [==============================] - 0s 39ms/step\n",
      "1/1 [==============================] - 0s 52ms/step\n",
      "1/1 [==============================] - 0s 31ms/step\n",
      "1/1 [==============================] - 0s 47ms/step\n",
      "1/1 [==============================] - 0s 54ms/step\n",
      "1/1 [==============================] - 0s 31ms/step\n",
      "1/1 [==============================] - 0s 31ms/step\n",
      "1/1 [==============================] - 0s 55ms/step\n",
      "1/1 [==============================] - 0s 47ms/step\n",
      "1/1 [==============================] - 0s 39ms/step\n",
      "1/1 [==============================] - 0s 31ms/step\n",
      "1/1 [==============================] - 0s 47ms/step\n",
      "1/1 [==============================] - 0s 41ms/step\n",
      "1/1 [==============================] - 0s 47ms/step\n",
      "1/1 [==============================] - 0s 47ms/step\n",
      "1/1 [==============================] - 0s 41ms/step\n",
      "1/1 [==============================] - 0s 47ms/step\n",
      "1/1 [==============================] - 0s 31ms/step\n",
      "1/1 [==============================] - 0s 31ms/step\n",
      "1/1 [==============================] - 0s 31ms/step\n",
      "1/1 [==============================] - 0s 41ms/step\n",
      "1/1 [==============================] - 0s 31ms/step\n",
      "1/1 [==============================] - 0s 47ms/step\n",
      "1/1 [==============================] - 0s 45ms/step\n",
      "1/1 [==============================] - 0s 47ms/step\n",
      "1/1 [==============================] - 0s 44ms/step\n",
      "1/1 [==============================] - 0s 47ms/step\n",
      "1/1 [==============================] - 0s 47ms/step\n",
      "1/1 [==============================] - 0s 29ms/step\n",
      "1/1 [==============================] - 0s 46ms/step\n",
      "1/1 [==============================] - 0s 55ms/step\n",
      "1/1 [==============================] - 0s 31ms/step\n",
      "1/1 [==============================] - 0s 47ms/step\n",
      "1/1 [==============================] - 0s 47ms/step\n",
      "1/1 [==============================] - 0s 47ms/step\n",
      "1/1 [==============================] - 0s 48ms/step\n",
      "1/1 [==============================] - 0s 47ms/step\n",
      "1/1 [==============================] - 0s 47ms/step\n",
      "1/1 [==============================] - 0s 47ms/step\n",
      "1/1 [==============================] - 0s 47ms/step\n",
      "1/1 [==============================] - 0s 33ms/step\n",
      "1/1 [==============================] - 0s 47ms/step\n",
      "1/1 [==============================] - 0s 31ms/step\n",
      "1/1 [==============================] - 0s 34ms/step\n",
      "1/1 [==============================] - 0s 31ms/step\n",
      "1/1 [==============================] - 0s 31ms/step\n",
      "1/1 [==============================] - 0s 51ms/step\n",
      "1/1 [==============================] - 0s 47ms/step\n",
      "1/1 [==============================] - 0s 35ms/step\n",
      "1/1 [==============================] - 0s 47ms/step\n",
      "1/1 [==============================] - 0s 47ms/step\n",
      "1/1 [==============================] - 0s 37ms/step\n",
      "1/1 [==============================] - 0s 47ms/step\n",
      "1/1 [==============================] - 0s 48ms/step\n",
      "1/1 [==============================] - 0s 38ms/step\n",
      "1/1 [==============================] - 0s 47ms/step\n",
      "1/1 [==============================] - 0s 38ms/step\n",
      "1/1 [==============================] - 0s 47ms/step\n",
      "1/1 [==============================] - 0s 31ms/step\n",
      "1/1 [==============================] - 0s 40ms/step\n",
      "1/1 [==============================] - 0s 52ms/step\n",
      "1/1 [==============================] - 0s 31ms/step\n",
      "1/1 [==============================] - 0s 41ms/step\n",
      "1/1 [==============================] - 0s 41ms/step\n",
      "1/1 [==============================] - 0s 31ms/step\n",
      "1/1 [==============================] - 0s 39ms/step\n",
      "1/1 [==============================] - 0s 47ms/step\n",
      "1/1 [==============================] - 0s 47ms/step\n",
      "1/1 [==============================] - 0s 42ms/step\n",
      "1/1 [==============================] - 0s 47ms/step\n",
      "1/1 [==============================] - 0s 41ms/step\n",
      "1/1 [==============================] - 0s 31ms/step\n",
      "1/1 [==============================] - 0s 47ms/step\n",
      "1/1 [==============================] - 0s 43ms/step\n",
      "1/1 [==============================] - 0s 47ms/step\n",
      "1/1 [==============================] - 0s 47ms/step\n",
      "1/1 [==============================] - 0s 30ms/step\n",
      "1/1 [==============================] - 0s 47ms/step\n",
      "1/1 [==============================] - 0s 43ms/step\n",
      "1/1 [==============================] - 0s 47ms/step\n",
      "1/1 [==============================] - 0s 47ms/step\n",
      "1/1 [==============================] - 0s 48ms/step\n",
      "1/1 [==============================] - 0s 34ms/step\n",
      "1/1 [==============================] - 0s 47ms/step\n",
      "1/1 [==============================] - 0s 47ms/step\n",
      "1/1 [==============================] - 0s 47ms/step\n",
      "1/1 [==============================] - 0s 47ms/step\n",
      "1/1 [==============================] - 0s 34ms/step\n",
      "1/1 [==============================] - 0s 31ms/step\n",
      "1/1 [==============================] - 0s 47ms/step\n",
      "1/1 [==============================] - 0s 38ms/step\n",
      "1/1 [==============================] - 0s 28ms/step\n",
      "1/1 [==============================] - 0s 47ms/step\n",
      "1/1 [==============================] - 0s 31ms/step\n",
      "1/1 [==============================] - 0s 50ms/step\n",
      "1/1 [==============================] - 0s 31ms/step\n",
      "1/1 [==============================] - 0s 50ms/step\n",
      "1/1 [==============================] - 0s 47ms/step\n",
      "1/1 [==============================] - 0s 47ms/step\n",
      "1/1 [==============================] - 0s 53ms/step\n",
      "1/1 [==============================] - 0s 31ms/step\n",
      "1/1 [==============================] - 0s 47ms/step\n",
      "1/1 [==============================] - 0s 38ms/step\n",
      "1/1 [==============================] - 0s 47ms/step\n",
      "1/1 [==============================] - 0s 39ms/step\n",
      "1/1 [==============================] - 0s 47ms/step\n",
      "1/1 [==============================] - 0s 47ms/step\n",
      "1/1 [==============================] - 0s 38ms/step\n",
      "1/1 [==============================] - 0s 40ms/step\n"
     ]
    },
    {
     "name": "stdout",
     "output_type": "stream",
     "text": [
      "1/1 [==============================] - 0s 47ms/step\n",
      "1/1 [==============================] - 0s 40ms/step\n",
      "1/1 [==============================] - 0s 41ms/step\n",
      "1/1 [==============================] - 0s 31ms/step\n",
      "1/1 [==============================] - 0s 40ms/step\n",
      "1/1 [==============================] - 0s 53ms/step\n",
      "1/1 [==============================] - 0s 31ms/step\n",
      "1/1 [==============================] - 0s 43ms/step\n",
      "1/1 [==============================] - 0s 47ms/step\n",
      "1/1 [==============================] - 0s 47ms/step\n",
      "1/1 [==============================] - 0s 28ms/step\n",
      "1/1 [==============================] - 0s 53ms/step\n",
      "1/1 [==============================] - 0s 55ms/step\n",
      "1/1 [==============================] - 0s 31ms/step\n",
      "1/1 [==============================] - 0s 45ms/step\n",
      "1/1 [==============================] - 0s 31ms/step\n",
      "1/1 [==============================] - 0s 31ms/step\n",
      "1/1 [==============================] - 0s 48ms/step\n",
      "1/1 [==============================] - 0s 31ms/step\n",
      "1/1 [==============================] - 0s 46ms/step\n",
      "1/1 [==============================] - 0s 31ms/step\n",
      "1/1 [==============================] - 0s 31ms/step\n",
      "1/1 [==============================] - 0s 48ms/step\n",
      "1/1 [==============================] - 0s 31ms/step\n",
      "1/1 [==============================] - 0s 48ms/step\n",
      "1/1 [==============================] - 0s 47ms/step\n",
      "1/1 [==============================] - 0s 47ms/step\n",
      "1/1 [==============================] - 0s 49ms/step\n",
      "1/1 [==============================] - 0s 31ms/step\n",
      "1/1 [==============================] - 0s 31ms/step\n",
      "1/1 [==============================] - 0s 47ms/step\n",
      "1/1 [==============================] - 0s 63ms/step\n",
      "1/1 [==============================] - 0s 50ms/step\n",
      "1/1 [==============================] - 0s 47ms/step\n",
      "1/1 [==============================] - 0s 47ms/step\n",
      "1/1 [==============================] - 0s 36ms/step\n",
      "1/1 [==============================] - 0s 31ms/step\n",
      "1/1 [==============================] - 0s 37ms/step\n",
      "1/1 [==============================] - 0s 39ms/step\n",
      "1/1 [==============================] - 0s 31ms/step\n",
      "1/1 [==============================] - 0s 35ms/step\n",
      "1/1 [==============================] - 0s 56ms/step\n",
      "1/1 [==============================] - 0s 65ms/step\n",
      "1/1 [==============================] - 0s 31ms/step\n",
      "1/1 [==============================] - 0s 42ms/step\n",
      "1/1 [==============================] - 0s 47ms/step\n",
      "1/1 [==============================] - 0s 41ms/step\n",
      "1/1 [==============================] - 0s 47ms/step\n",
      "1/1 [==============================] - 0s 47ms/step\n",
      "1/1 [==============================] - 0s 43ms/step\n",
      "1/1 [==============================] - 0s 47ms/step\n",
      "1/1 [==============================] - 0s 40ms/step\n",
      "1/1 [==============================] - 0s 47ms/step\n",
      "1/1 [==============================] - 0s 47ms/step\n",
      "1/1 [==============================] - 0s 28ms/step\n",
      "1/1 [==============================] - 0s 31ms/step\n",
      "1/1 [==============================] - 0s 28ms/step\n",
      "1/1 [==============================] - 0s 43ms/step\n",
      "1/1 [==============================] - 0s 47ms/step\n",
      "1/1 [==============================] - 0s 29ms/step\n",
      "1/1 [==============================] - 0s 47ms/step\n",
      "1/1 [==============================] - 0s 47ms/step\n",
      "1/1 [==============================] - 0s 46ms/step\n",
      "1/1 [==============================] - 0s 31ms/step\n",
      "1/1 [==============================] - 0s 31ms/step\n",
      "1/1 [==============================] - 0s 49ms/step\n",
      "1/1 [==============================] - 0s 31ms/step\n",
      "1/1 [==============================] - 0s 45ms/step\n",
      "1/1 [==============================] - 0s 47ms/step\n",
      "1/1 [==============================] - 0s 47ms/step\n",
      "1/1 [==============================] - 0s 31ms/step\n",
      "1/1 [==============================] - 0s 49ms/step\n",
      "1/1 [==============================] - 0s 47ms/step\n",
      "1/1 [==============================] - 0s 29ms/step\n",
      "1/1 [==============================] - 0s 32ms/step\n",
      "1/1 [==============================] - 0s 47ms/step\n",
      "1/1 [==============================] - 0s 31ms/step\n",
      "1/1 [==============================] - 0s 32ms/step\n",
      "1/1 [==============================] - 0s 47ms/step\n",
      "1/1 [==============================] - 0s 31ms/step\n",
      "1/1 [==============================] - 0s 34ms/step\n",
      "1/1 [==============================] - 0s 47ms/step\n",
      "1/1 [==============================] - 0s 47ms/step\n",
      "1/1 [==============================] - 0s 35ms/step\n",
      "1/1 [==============================] - 0s 47ms/step\n",
      "1/1 [==============================] - 0s 36ms/step\n",
      "1/1 [==============================] - 0s 47ms/step\n",
      "1/1 [==============================] - 0s 47ms/step\n",
      "1/1 [==============================] - 0s 36ms/step\n",
      "1/1 [==============================] - 0s 47ms/step\n",
      "1/1 [==============================] - 0s 31ms/step\n",
      "1/1 [==============================] - 0s 34ms/step\n",
      "1/1 [==============================] - 0s 31ms/step\n",
      "1/1 [==============================] - 0s 52ms/step\n",
      "1/1 [==============================] - 0s 39ms/step\n",
      "1/1 [==============================] - 0s 47ms/step\n",
      "1/1 [==============================] - 0s 49ms/step\n",
      "1/1 [==============================] - 0s 47ms/step\n",
      "1/1 [==============================] - 0s 31ms/step\n",
      "1/1 [==============================] - 0s 42ms/step\n",
      "1/1 [==============================] - 0s 47ms/step\n",
      "1/1 [==============================] - 0s 40ms/step\n",
      "1/1 [==============================] - 0s 59ms/step\n",
      "1/1 [==============================] - 0s 55ms/step\n",
      "1/1 [==============================] - 0s 47ms/step\n",
      "1/1 [==============================] - 0s 42ms/step\n",
      "1/1 [==============================] - 0s 45ms/step\n",
      "1/1 [==============================] - 0s 31ms/step\n",
      "1/1 [==============================] - 0s 44ms/step\n",
      "1/1 [==============================] - 0s 47ms/step\n",
      "1/1 [==============================] - 0s 47ms/step\n",
      "1/1 [==============================] - 0s 30ms/step\n",
      "1/1 [==============================] - 0s 31ms/step\n",
      "1/1 [==============================] - 0s 47ms/step\n",
      "1/1 [==============================] - 0s 44ms/step\n",
      "1/1 [==============================] - 0s 49ms/step\n",
      "1/1 [==============================] - 0s 47ms/step\n",
      "1/1 [==============================] - 0s 47ms/step\n",
      "1/1 [==============================] - 0s 47ms/step\n",
      "1/1 [==============================] - 0s 47ms/step\n",
      "1/1 [==============================] - 0s 49ms/step\n",
      "1/1 [==============================] - 0s 41ms/step\n",
      "1/1 [==============================] - 0s 34ms/step\n",
      "1/1 [==============================] - 0s 47ms/step\n",
      "1/1 [==============================] - 0s 47ms/step\n",
      "1/1 [==============================] - 0s 50ms/step\n",
      "1/1 [==============================] - 0s 47ms/step\n",
      "1/1 [==============================] - 0s 31ms/step\n",
      "1/1 [==============================] - 0s 47ms/step\n",
      "1/1 [==============================] - 0s 47ms/step\n",
      "1/1 [==============================] - 0s 34ms/step\n",
      "1/1 [==============================] - 0s 47ms/step\n",
      "1/1 [==============================] - 0s 31ms/step\n",
      "1/1 [==============================] - 0s 53ms/step\n",
      "1/1 [==============================] - 0s 53ms/step\n",
      "1/1 [==============================] - 0s 47ms/step\n",
      "1/1 [==============================] - 0s 35ms/step\n",
      "1/1 [==============================] - 0s 47ms/step\n",
      "1/1 [==============================] - 0s 31ms/step\n",
      "1/1 [==============================] - 0s 26ms/step\n",
      "1/1 [==============================] - 0s 31ms/step\n",
      "1/1 [==============================] - 0s 41ms/step\n",
      "1/1 [==============================] - 0s 43ms/step\n",
      "1/1 [==============================] - 0s 47ms/step\n",
      "1/1 [==============================] - 0s 41ms/step\n",
      "1/1 [==============================] - 0s 47ms/step\n",
      "1/1 [==============================] - 0s 31ms/step\n",
      "1/1 [==============================] - 0s 43ms/step\n",
      "1/1 [==============================] - 0s 47ms/step\n",
      "1/1 [==============================] - 0s 41ms/step\n",
      "1/1 [==============================] - 0s 31ms/step\n",
      "1/1 [==============================] - 0s 31ms/step\n",
      "1/1 [==============================] - 0s 44ms/step\n",
      "1/1 [==============================] - 0s 47ms/step\n",
      "1/1 [==============================] - 0s 47ms/step\n",
      "1/1 [==============================] - 0s 46ms/step\n",
      "1/1 [==============================] - 0s 31ms/step\n"
     ]
    },
    {
     "name": "stdout",
     "output_type": "stream",
     "text": [
      "1/1 [==============================] - 0s 44ms/step\n",
      "1/1 [==============================] - 0s 31ms/step\n",
      "1/1 [==============================] - 0s 47ms/step\n",
      "1/1 [==============================] - 0s 62ms/step\n",
      "1/1 [==============================] - 0s 62ms/step\n",
      "1/1 [==============================] - 0s 78ms/step\n",
      "1/1 [==============================] - 0s 47ms/step\n",
      "1/1 [==============================] - 0s 47ms/step\n"
     ]
    }
   ],
   "source": [
    "cap = cv2.VideoCapture(0)\n",
    "\n",
    "with mp_hands.Hands(min_detection_confidence=0.5, max_num_hands=1) as hands:\n",
    "    while cap.isOpened():\n",
    "        ret, frame = cap.read()\n",
    "\n",
    "        # flip the image\n",
    "        frame = cv2.flip(frame, 1)\n",
    "        \n",
    "        # bgr to rgb\n",
    "        image = cv2.cvtColor(frame, cv2.COLOR_BGR2RGB)\n",
    "\n",
    "        # make detections\n",
    "\n",
    "\n",
    "        result = hands.process(image)\n",
    "        # render results of detections\n",
    "        if result.multi_hand_landmarks:\n",
    "            for landmark in result.multi_hand_landmarks:\n",
    "                mp_drawings.draw_landmarks(frame, landmark, mp_hands.HAND_CONNECTIONS,\n",
    "                                         mp_drawings.DrawingSpec(color=(100, 131, 25), thickness=2, circle_radius=2),\n",
    "                                         mp_drawings.DrawingSpec(color=(22, 55, 200), thickness=3, circle_radius=2))\n",
    "      \n",
    "      \n",
    "            keypoints = extract_keypoints(result)\n",
    "        \n",
    "            predictions = model.predict(tf.expand_dims(keypoints, 0))\n",
    "            predictions = actions[np.argmax(predictions)]\n",
    "            cv2.putText(frame, str(predictions), (200, 150), cv2.FONT_HERSHEY_DUPLEX, 1, (255, 255, 0), 2)\n",
    "        # cv2.imwrite(os.path.join('output images', f'{str(uuid.uuid1())}.jpg'), frame)\n",
    "        cv2.imshow('Hand tracking', frame)\n",
    "        if cv2.waitKey(1) & 0xFF == ord('q'):\n",
    "            break\n",
    "\n",
    "cap.release()\n",
    "cv2.destroyAllWindows()"
   ]
  },
  {
   "cell_type": "code",
   "execution_count": null,
   "id": "d285d051",
   "metadata": {},
   "outputs": [],
   "source": []
  }
 ],
 "metadata": {
  "kernelspec": {
   "display_name": "Python 3 (ipykernel)",
   "language": "python",
   "name": "python3"
  },
  "language_info": {
   "codemirror_mode": {
    "name": "ipython",
    "version": 3
   },
   "file_extension": ".py",
   "mimetype": "text/x-python",
   "name": "python",
   "nbconvert_exporter": "python",
   "pygments_lexer": "ipython3",
   "version": "3.9.0"
  },
  "varInspector": {
   "cols": {
    "lenName": 16,
    "lenType": 16,
    "lenVar": 40
   },
   "kernels_config": {
    "python": {
     "delete_cmd_postfix": "",
     "delete_cmd_prefix": "del ",
     "library": "var_list.py",
     "varRefreshCmd": "print(var_dic_list())"
    },
    "r": {
     "delete_cmd_postfix": ") ",
     "delete_cmd_prefix": "rm(",
     "library": "var_list.r",
     "varRefreshCmd": "cat(var_dic_list()) "
    }
   },
   "types_to_exclude": [
    "module",
    "function",
    "builtin_function_or_method",
    "instance",
    "_Feature"
   ],
   "window_display": false
  }
 },
 "nbformat": 4,
 "nbformat_minor": 5
}
